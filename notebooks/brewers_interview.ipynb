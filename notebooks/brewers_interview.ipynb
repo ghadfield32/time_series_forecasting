{
 "cells": [
  {
   "cell_type": "markdown",
   "metadata": {},
   "source": [
    "Question 1: Monte Carlo Simulation\n",
    "\n",
    "Problem Statement: The probability that Hitter A draws a walk in a plate appearance is 7%, and the probability that Hitter B draws a walk in a plate appearance is 10%. In a given month, they each have 100 plate appearances. What is the probability that Hitter A draws more walks than Hitter B in that month?\n",
    "\n",
    "Approach:\n",
    "We will simulate the plate appearances for both Hitter A and Hitter B using their respective walk probabilities. Each plate appearance can be seen as a Bernoulli trial (success/failure) with a probability of success. We run the simulation for a large number of iterations to approximate the distribution of walks for each hitter, and then we count the cases where Hitter A has more walks than Hitter B.\n",
    "\n",
    "Code:"
   ]
  },
  {
   "cell_type": "code",
   "execution_count": 2,
   "metadata": {},
   "outputs": [
    {
     "name": "stdout",
     "output_type": "stream",
     "text": [
      "Question 1: Probability that Hitter A draws more walks than Hitter B: 0.1860\n"
     ]
    }
   ],
   "source": [
    "import numpy as np  # Importing the numpy library for numerical operations\n",
    "\n",
    "# Step 1: Define the simulation parameters\n",
    "# We choose a large number of simulations (100,000) to get an accurate estimate\n",
    "num_simulations = 100000  # Number of simulated months to run, enough to fill CLT (central limit theorem)\n",
    "plate_appearances = 100    # Each hitter has 100 plate appearances in a month\n",
    "\n",
    "# Step 2: Define the probabilities of drawing a walk for each hitter\n",
    "prob_walk_hitter_a = 0.07  # Probability of Hitter A drawing a walk in one plate appearance\n",
    "prob_walk_hitter_b = 0.10  # Probability of Hitter B drawing a walk in one plate appearance\n",
    "\n",
    "# Step 3: Run the Monte Carlo simulation\n",
    "# Simulate the number of walks for each hitter over `num_simulations` months\n",
    "# We use the binomial distribution to model the number of walks out of 100 plate appearances\n",
    "# For Hitter A, we simulate using his probability of drawing a walk\n",
    "hitter_a_walks = np.random.binomial(plate_appearances, prob_walk_hitter_a, num_simulations)\n",
    "# Similarly, for Hitter B, we use his probability of drawing a walk\n",
    "hitter_b_walks = np.random.binomial(plate_appearances, prob_walk_hitter_b, num_simulations)\n",
    "\n",
    "# Step 4: Calculate the probability that Hitter A has more walks than Hitter B\n",
    "# Use numpy's mean function to determine the proportion of simulations where A's walks > B's walks\n",
    "probability_hitter_a_more_walks = np.mean(hitter_a_walks > hitter_b_walks)\n",
    "\n",
    "# Step 5: Print result\n",
    "print(f\"Question 1: Probability that Hitter A draws more walks than Hitter B: {probability_hitter_a_more_walks:.4f}\")\n"
   ]
  },
  {
   "cell_type": "markdown",
   "metadata": {},
   "source": [
    "Question 2: Probability of Pitch in Strike Zone Given Swing\n",
    "\n",
    "Problem Statement: A pitcher pitches the ball into the strike zone 48% of the time. When a pitch is thrown in the strike zone, the batter swings at the pitch 64% of the time, and when the pitch is thrown out of the strike zone, the batter swings at the pitch 29% of the time. In a matchup of this batter and pitcher, a pitch is thrown and the batter swings. What is the probability that the pitch was in the strike zone?\n",
    "\n",
    "Approach: Normal Simulation\n",
    "\n",
    "    Calculate the total probability of a swing using the law of total probability:\n",
    "    P(Swing)=P(Swing∣Strike Zone)⋅P(Strike Zone)+P(Swing∣Out of Strike Zone)⋅P(Out of Strike Zone)\n",
    "    P(Swing)=P(Swing∣Strike Zone)⋅P(Strike Zone)+P(Swing∣Out of Strike Zone)⋅P(Out of Strike Zone)\n",
    "    Use Bayes' Theorem to find P(Strike Zone∣Swing)P(Strike Zone∣Swing):\n",
    "    P(Strike Zone∣Swing)=P(Swing∣Strike Zone)⋅P(Strike Zone)P(Swing)\n",
    "    P(Strike Zone∣Swing)=P(Swing)P(Swing∣Strike Zone)⋅P(Strike Zone)​\n"
   ]
  },
  {
   "cell_type": "code",
   "execution_count": 8,
   "metadata": {},
   "outputs": [
    {
     "name": "stdout",
     "output_type": "stream",
     "text": [
      "Question 2: Probability that the pitch was in the strike zone given a swing: 0.6707\n"
     ]
    }
   ],
   "source": [
    "# Given probabilities\n",
    "p_strike_zone = 0.48  # P(Strike Zone)\n",
    "p_swing_given_strike = 0.64  # P(Swing | Strike Zone)\n",
    "p_swing_given_out_of_strike = 0.29  # P(Swing | Out of Strike Zone)\n",
    "\n",
    "# Calculate P(Swing) using the law of total probability\n",
    "p_swing = (p_swing_given_strike * p_strike_zone) + \\\n",
    "          (p_swing_given_out_of_strike * (1 - p_strike_zone))\n",
    "\n",
    "# Apply Bayes' Theorem to calculate P(Strike Zone | Swing)\n",
    "p_strike_given_swing = (p_swing_given_strike * p_strike_zone) / p_swing\n",
    "\n",
    "# Print the result\n",
    "print(f\"Question 2: Probability that the pitch was in the strike zone given a swing: {p_strike_given_swing:.4f}\")\n"
   ]
  },
  {
   "cell_type": "markdown",
   "metadata": {},
   "source": [
    "# Question 3: Linear Regression Analysis\n",
    "Part (a) Probability of Lower Run Expectancy for Pitcher A\n",
    "\n",
    "Problem Statement: Given the coefficients and standard errors for a linear regression model predicting run expectancy change, determine the probability that Pitcher A has a lower run expectancy change than Pitcher B.\n",
    "\n",
    "Approach:\n",
    "\n",
    "    Compute the run expectancy change for each pitcher using the linear model:\n",
    "    Run Expectancy=Intercept+β1⋅Velocity+β2⋅Induced Vertical Break+β3⋅Release Height\n",
    "    Run Expectancy=Intercept+β1​⋅Velocity+β2​⋅Induced Vertical Break+β3​⋅Release Height\n",
    "    Calculate the standard error of the difference between the two pitchers’ run expectancies.\n",
    "    Use the normal distribution to find the probability that Pitcher A’s run expectancy is lower than Pitcher B’s."
   ]
  },
  {
   "cell_type": "code",
   "execution_count": 9,
   "metadata": {},
   "outputs": [
    {
     "name": "stdout",
     "output_type": "stream",
     "text": [
      "Run Expectancy Change - Pitcher A: 7.44\n",
      "Run Expectancy Change - Pitcher B: 4.30\n",
      "Difference: 3.14\n",
      "Standard Error of Difference: 12.73\n",
      "Z-score: 0.2467\n",
      "Question 3 Part (a): Probability that Pitcher A has a lower run expectancy change than Pitcher B: 0.5974\n"
     ]
    }
   ],
   "source": [
    "from scipy.stats import norm\n",
    "\n",
    "# Given coefficients and standard error\n",
    "intercept = 138\n",
    "coef_velocity = -1.77\n",
    "coef_vertical_break = -1.08\n",
    "coef_release_height = 8.62\n",
    "std_error = 9.0\n",
    "\n",
    "# Pitcher characteristics\n",
    "pitcher_a = {'Velocity': 92, 'VerticalBreak': 18, 'ReleaseHeight': 6}\n",
    "pitcher_b = {'Velocity': 95, 'VerticalBreak': 12, 'ReleaseHeight': 5.5}\n",
    "\n",
    "# Calculate run expectancy change for each pitcher\n",
    "run_expectancy_a = (intercept +\n",
    "                    coef_velocity * pitcher_a['Velocity'] +\n",
    "                    coef_vertical_break * pitcher_a['VerticalBreak'] +\n",
    "                    coef_release_height * pitcher_a['ReleaseHeight'])\n",
    "\n",
    "run_expectancy_b = (intercept +\n",
    "                    coef_velocity * pitcher_b['Velocity'] +\n",
    "                    coef_vertical_break * pitcher_b['VerticalBreak'] +\n",
    "                    coef_release_height * pitcher_b['ReleaseHeight'])\n",
    "\n",
    "# Calculate the difference and standard error of the difference\n",
    "difference = run_expectancy_a - run_expectancy_b\n",
    "std_error_diff = std_error * np.sqrt(2)  # Standard error of the difference\n",
    "\n",
    "# Calculate the Z-score\n",
    "z_score = difference / std_error_diff\n",
    "\n",
    "# Probability that Pitcher A has a lower run expectancy\n",
    "probability_lower_expectancy = norm.cdf(z_score)\n",
    "\n",
    "# Print the results\n",
    "print(f\"Run Expectancy Change - Pitcher A: {run_expectancy_a:.2f}\")\n",
    "print(f\"Run Expectancy Change - Pitcher B: {run_expectancy_b:.2f}\")\n",
    "print(f\"Difference: {difference:.2f}\")\n",
    "print(f\"Standard Error of Difference: {std_error_diff:.2f}\")\n",
    "print(f\"Z-score: {z_score:.4f}\")\n",
    "print(f\"Question 3 Part (a): Probability that Pitcher A has a lower run expectancy change than Pitcher B: {probability_lower_expectancy:.4f}\")\n"
   ]
  },
  {
   "cell_type": "markdown",
   "metadata": {},
   "source": [
    "Part (b): Regression Coefficients for Run Expectancy Change on Velocity and Release Height\n",
    "\n",
    "Problem Statement: Given the coefficients from the regression of Induced Vertical Break on Velocity and Release Height, what would the coefficients be in a regression of Run Expectancy Change on Velocity and Release Height only?\n",
    "\n",
    "Approach:\n",
    "\n",
    "    Use the relationship between the coefficients of the first regression and the coefficients from the second regression to adjust the values.\n",
    "    Apply formulas to derive the new coefficients."
   ]
  },
  {
   "cell_type": "code",
   "execution_count": 10,
   "metadata": {},
   "outputs": [
    {
     "name": "stdout",
     "output_type": "stream",
     "text": [
      "Question 3 Part (b): New coefficients after removing Induced Vertical Break:\n",
      "Intercept: 138.5184\n",
      "Velocity: -1.7836\n",
      "Release Height: 5.8120\n"
     ]
    }
   ],
   "source": [
    "# Given coefficients for IVB regression\n",
    "intercept_ivb = -0.48\n",
    "coef_velocity_ivb = 0.0126\n",
    "coef_release_height_ivb = 2.60\n",
    "\n",
    "# Original coefficients for run expectancy change\n",
    "intercept_original = 138\n",
    "coef_velocity_original = -1.77\n",
    "coef_ivb_original = -1.08\n",
    "coef_release_height_original = 8.62\n",
    "\n",
    "# Calculate new coefficients\n",
    "new_intercept = intercept_original + coef_ivb_original * intercept_ivb\n",
    "new_coef_velocity = coef_velocity_original + coef_ivb_original * coef_velocity_ivb\n",
    "new_coef_release_height = coef_release_height_original + coef_ivb_original * coef_release_height_ivb\n",
    "\n",
    "# Print the new coefficients\n",
    "print(\"Question 3 Part (b): New coefficients after removing Induced Vertical Break:\")\n",
    "print(f\"Intercept: {new_intercept:.4f}\")\n",
    "print(f\"Velocity: {new_coef_velocity:.4f}\")\n",
    "print(f\"Release Height: {new_coef_release_height:.4f}\")\n"
   ]
  },
  {
   "cell_type": "markdown",
   "metadata": {},
   "source": [
    "Part (c): Effect of Adding Pitcher Height to the Model\n",
    "\n",
    "Problem Statement: If the hypothesis is that taller pitchers are more effective, how would adding pitcher height change the coefficient of Release Height in the regression model from Part (b)?\n",
    "\n",
    "Approach:\n",
    "\n",
    "    Adding Pitcher Height to the regression model might reduce the magnitude of the Release Height coefficient because taller pitchers generally have higher release points, causing multicollinearity. The coefficient of Release Height will likely decrease in magnitude if Pitcher Height is added.\n",
    "\n",
    "Part (d): Violations of Linearity Assumptions\n",
    "\n",
    "Problem Statement: The original model assumes the variables are linearly related to each other. What is one way this assumption could be violated, and how could we model fastball effectiveness using these features without that assumption?\n",
    "\n",
    "Approach:\n",
    "\n",
    "    A potential violation is the interaction between velocity and induced vertical break, which may have a non-linear relationship. To address this, we can use non-linear models such as Decision Trees or Gradient Boosting."
   ]
  },
  {
   "cell_type": "markdown",
   "metadata": {},
   "source": [
    "# Question 4: Probability Mets Finish Third\n",
    "\n",
    "Problem Statement: The Mets and Braves have 2 remaining games against each other. The Padres and Diamondbacks have 3 remaining games against each other. Assume the probability of each team winning any of the remaining games is 50%. What is the probability that the Mets finish the season as the third ranked of these four teams?\n",
    "\n",
    "Simulation Approach:\n",
    "\n",
    "    Simulate the outcomes of the remaining games multiple times (e.g., 100,000 times).\n",
    "    For each simulation, compute the final standings based on the simulated results.\n",
    "    Count the scenarios where the Mets finish exactly third.\n",
    "\n",
    "Code:"
   ]
  },
  {
   "cell_type": "code",
   "execution_count": 11,
   "metadata": {},
   "outputs": [
    {
     "name": "stdout",
     "output_type": "stream",
     "text": [
      "Question 4: Probability that the Mets finish as the third ranked team: 0.3112\n"
     ]
    }
   ],
   "source": [
    "import numpy as np\n",
    "\n",
    "# Simulation parameters\n",
    "num_simulations = 100000  # Number of simulations\n",
    "\n",
    "# Initial standings\n",
    "teams_initial_wins = {\n",
    "    'Padres': 91,\n",
    "    'Mets': 87,\n",
    "    'Diamondbacks': 87,\n",
    "    'Braves': 86\n",
    "}\n",
    "\n",
    "# Remaining games against each other\n",
    "mets_braves_games = 2\n",
    "padres_dbacks_games = 3\n",
    "\n",
    "mets_third_count = 0\n",
    "\n",
    "for _ in range(num_simulations):\n",
    "    # Copy initial wins\n",
    "    teams_wins = teams_initial_wins.copy()\n",
    "    \n",
    "    # Simulate Mets vs Braves games\n",
    "    for _ in range(mets_braves_games):\n",
    "        if np.random.rand() < 0.5:\n",
    "            teams_wins['Mets'] += 1\n",
    "        else:\n",
    "            teams_wins['Braves'] += 1\n",
    "\n",
    "    # Simulate Padres vs Diamondbacks games\n",
    "    for _ in range(padres_dbacks_games):\n",
    "        if np.random.rand() < 0.5:\n",
    "            teams_wins['Padres'] += 1\n",
    "        else:\n",
    "            teams_wins['Diamondbacks'] += 1\n",
    "\n",
    "    # Simulate other games (if any)\n",
    "    # Assuming no other games as per the given data\n",
    "    # If there are other games, they can be simulated independently\n",
    "\n",
    "    # Create final standings\n",
    "    # Teams are ordered by total wins, with ties broken by initial standings\n",
    "    standings = sorted(teams_wins.items(), key=lambda x: (-x[1], list(teams_initial_wins.keys()).index(x[0])))\n",
    "\n",
    "    # Assign ranks\n",
    "    team_ranks = {team[0]: idx + 1 for idx, team in enumerate(standings)}\n",
    "\n",
    "    # Check if Mets finish third\n",
    "    if team_ranks['Mets'] == 3:\n",
    "        mets_third_count += 1\n",
    "\n",
    "# Calculate the probability\n",
    "probability_mets_third = mets_third_count / num_simulations\n",
    "print(f\"Question 4: Probability that the Mets finish as the third ranked team: {probability_mets_third:.4f}\")\n"
   ]
  },
  {
   "cell_type": "markdown",
   "metadata": {},
   "source": [
    "# Question 5: Determining the Value of pp for Home Team to Win 60% of Extra Inning Games\n",
    "\n",
    "Approach:\n",
    "\n",
    "To find the value of pp that results in the home team winning 60% of the extra inning games, we'll:\n",
    "\n",
    "    Calculate the probability of the home team winning the game as a function of pp.\n",
    "\n",
    "    Set up an equation where the total probability of the home team winning equals 60%.\n",
    "\n",
    "    Solve for pp."
   ]
  },
  {
   "cell_type": "code",
   "execution_count": 12,
   "metadata": {},
   "outputs": [
    {
     "name": "stdout",
     "output_type": "stream",
     "text": [
      "The value of p for the home team to win 60% of the games is approximately: 0.9107\n"
     ]
    }
   ],
   "source": [
    "# Question 5: Calculating the Value of p for Home Team to Win 60% of Games\n",
    "\n",
    "# Given probabilities\n",
    "P_R = {\n",
    "    0: 0.35,  # Probability road team scores 0 runs\n",
    "    1: 0.40,  # Probability road team scores 1 run\n",
    "    2: 0.15,  # Probability road team scores 2 runs\n",
    "    3: 0.10   # Probability road team scores 3 runs\n",
    "}\n",
    "\n",
    "# Function to calculate overall win probability W as a function of p\n",
    "def calculate_W(p):\n",
    "    # Probability of home team winning in current inning\n",
    "    P_win = P_R[0]*(p) + P_R[1]*(0.45) + P_R[2]*(0.10) + P_R[3]*(0)\n",
    "    \n",
    "    # Probability of game continuing\n",
    "    P_continue = P_R[0]*(1 - p) + P_R[1]*(0.20) + P_R[2]*(0.15) + P_R[3]*(0.10)\n",
    "    \n",
    "    # Overall win probability\n",
    "    W = P_win / (1 - P_continue)\n",
    "    return W\n",
    "\n",
    "# Target win probability\n",
    "W_target = 0.60\n",
    "\n",
    "# Solve for p using numerical methods\n",
    "import numpy as np\n",
    "from scipy.optimize import fsolve\n",
    "\n",
    "# Define function to find root\n",
    "def equation(p):\n",
    "    return calculate_W(p) - W_target\n",
    "\n",
    "# Initial guess for p\n",
    "p_initial_guess = 0.5\n",
    "\n",
    "# Solve for p\n",
    "solution = fsolve(equation, p_initial_guess)\n",
    "\n",
    "p_value = solution[0]\n",
    "\n",
    "print(f\"The value of p for the home team to win 60% of the games is approximately: {p_value:.4f}\")\n"
   ]
  },
  {
   "cell_type": "markdown",
   "metadata": {},
   "source": [
    "# Question 6: You are tasked with constructing a model to determine the probability that a pitcher will throw\n",
    "a pickoff throw over to first base instead of pitching the ball in situations where there is a runner\n",
    "on first base. How would you construct the model given that you had access to the following:\n",
    "Identities of all players on the field (fielders, pitcher, batter, runners), game state (number of\n",
    "outs, runners on base, inning, score, count), ball and player time series tracking data (positions\n",
    "for given timestamps), crowd size, pickoff statistics from the previous season, fielding\n",
    "percentage for all fielders, temperature, day/night game indicator, average seasonal sprint\n",
    "speed for all players, and pitch usage statistics for the pitcher.\n",
    "Note: There is no need to find data and generate an actual model. Please just describe how you\n",
    "would proceed assuming you had the data listed. Please limit your response to 300 words.\n",
    "\n",
    "\n",
    "Approach:\n",
    "To construct the model, I would start by compiling a dataset of all instances with a runner on first base, labeling each with whether a pickoff attempt occurred. Key features would include game state variables (inning, score, outs, count), player-specific metrics (pitcher's historical pickoff rates, runner's sprint speed and steal tendencies), and environmental factors (temperature, day/night, crowd size).\n",
    "\n",
    "Time-series tracking data would be used to calculate the runner's lead distance and the pitcher's delivery times. These dynamic features are crucial as larger leads or slower deliveries may increase the likelihood of a pickoff attempt.\n",
    "\n",
    "Given the binary nature of the outcome, I'd frame this as a classification problem. A logistic regression model could provide interpretability, showing how each feature affects the probability. Alternatively, tree-based models like Random Forests or Gradient Boosting could capture nonlinear relationships and interactions between variables.\n",
    "\n",
    "To handle categorical variables like player identities, I'd use encoding techniques or consider embedding layers if using neural networks. Feature selection methods would help in reducing dimensionality, focusing on the most predictive variables.\n",
    "\n",
    "The model would be trained using cross-validation to ensure it generalizes well. Since pickoff attempts may be relatively rare events, I'd address any class imbalance using resampling techniques or by adjusting class weights.\n",
    "\n",
    "Finally, I'd evaluate the model using metrics such as precision, recall, and AUC-ROC. Insights from feature importance analysis could inform coaching strategies, such as anticipating pickoff attempts based on specific runners or game situations."
   ]
  },
  {
   "cell_type": "markdown",
   "metadata": {},
   "source": [
    "# Question 7: A baseball team is considering offering an extension to one of their young players. \n",
    "The following table has the player’s average WAR (wins above replacement) projections for the next 8 seasons\n",
    "as of today.\n",
    "The team has two possible options for contracts as of today:\n",
    "a) The team can go year-to-year on the contract. At the end of each year the team can sign the\n",
    "player to a 1-year guaranteed deal for the next season. The expected salaries for each of those 6\n",
    "years are shown in the table, however based on the player’s performance in each year those\n",
    "salaries may go up or down. If the team chooses not to offer the next year’s contract, the player\n",
    "is released and becomes a Free Agent. The player is not allowed to opt out after any of the first\n",
    "5 years, but becomes a Free Agent after the 6th season.\n",
    "b) The team can offer an 8-year guaranteed contract at the terms in the table below. The\n",
    "salaries for all 8 seasons are guaranteed immediately and the player becomes a Free Agent after\n",
    "the 8th season.\n",
    "What value of X would you guarantee for the final year of the 8-year guaranteed contract to\n",
    "have a break-even value of 0 between the two contracts (i.e. you would be indifferent to which\n",
    "of the two contracts the team offers the player)? Explain any simplifying assumptions you make\n",
    "and how you might improve your estimate with more time. Please limit your answer to 300\n",
    "words.\n"
   ]
  },
  {
   "attachments": {
    "image.png": {
     "image/png": "[encoded data removed]"
    }
   },
   "cell_type": "markdown",
   "metadata": {},
   "source": [
    "![image.png](attachment:image.png)"
   ]
  },
  {
   "cell_type": "markdown",
   "metadata": {},
   "source": [
    "Conclusion:\n",
    "\n",
    "The main value of the contract for the team depends heavily on market factors and the specific value the team places on retaining the player long-term. In this context, Option A (Year-to-Year) provides more flexibility and a lower overall cost, even when discounting for future cash flows. In contrast, Option B (Guaranteed) locks the team into a higher present value cost without additional benefits.\n",
    "\n",
    "Therefore, from a financial perspective, Option A would be more favorable unless there are strategic or market-driven reasons (e.g., player value increasing significantly) that justify a high XX-value in Option B. This analysis assumes a discount rate of 8%, but the decision could change based on the team's market, risk tolerance, and expected future player performance.\n",
    "\n",
    "This conclusion can vary significantly depending on the team’s market conditions, as some markets might prefer cost certainty over flexibility, while others might prioritize financial flexibility and reduced long-term risk."
   ]
  },
  {
   "cell_type": "markdown",
   "metadata": {},
   "source": [
    "# Question 8: Impact of Playoff Expansion on Team-Building Strategy\n",
    "Problem Statement:\n",
    "\n",
    "If MLB expands the playoff system to include 8 teams in each league, with a 3-game series in the first round, a 5-game series in the second round, and 7-game series for the Championship Series and World Series, how should organizations adjust their team-building approach?\n",
    "\n",
    "\n",
    "Proposal for Optimizing Starting Pitcher Usage in MLB\n",
    "\n",
    "Objective:\n",
    "This proposal aims to demonstrate that using starting pitchers in shorter, more frequent outings can:\n",
    "\n",
    "    Maximize their effectiveness per inning.\n",
    "    Reduce fatigue and the risk of injuries.\n",
    "    Improve overall team performance by preventing less effective relief innings from impacting the game outcome.\n",
    "\n",
    "Current Pitching Usage Analysis:\n",
    "\n",
    "    Average Pitches per Start: 86.2 pitches.\n",
    "    Average Innings per Start: 5.24 innings.\n",
    "    Average Pitches per Inning: Approximately 16.45 pitches.\n",
    "\n",
    "Rest Guidelines Based on Pitch Count:\n",
    "Pitches Thrown\tRequired Rest Days\n",
    "1-30\t0\n",
    "31-45\t1\n",
    "46-60\t2\n",
    "61-80\t3\n",
    "81-105\t4\n",
    "106+\t5\n",
    "Proposed Strategy:\n",
    "\n",
    "    Shorter Outings for Starters:\n",
    "        Limit starters to approximately 50-60 pitches per outing (~3-4 innings).\n",
    "        This allows starters to maintain peak performance and reduces fatigue.\n",
    "\n",
    "    Increased Frequency:\n",
    "        Shorter outings enable pitchers to pitch more frequently, potentially with 2-3 days of rest instead of 4-5 days.\n",
    "\n",
    "    Tandem Starters:\n",
    "        Use two starters in one game, each pitching 3-4 innings, which minimizes reliance on less effective relievers.\n",
    "\n",
    "Rationale and Expected Benefits:\n",
    "\n",
    "    Enhanced Performance:\n",
    "        Shorter outings keep pitchers in their optimal range, improving overall effectiveness.\n",
    "        This approach mitigates the performance decline often seen in later innings due to fatigue.\n",
    "\n",
    "    Injury Prevention:\n",
    "        Limiting pitch counts reduces strain on pitchers' arms, potentially lowering the risk of injuries.\n",
    "        More frequent outings, combined with reduced pitch counts, maintain fitness while avoiding overuse.\n",
    "\n",
    "    Bullpen Management:\n",
    "        Tandem starters cover more innings, reducing the number of innings left for relievers.\n",
    "        Fewer relief innings lower the chance of a single bad inning negatively impacting the game.\n",
    "\n",
    "    Increased Flexibility:\n",
    "        More frequent appearances allow teams to adapt to matchups and game situations more effectively.\n",
    "        Additional rest days for each pitcher provide opportunities to make in-game adjustments.\n",
    "\n",
    "Implementation and Next Steps:\n",
    "\n",
    "    Data Collection and Analysis:\n",
    "        Gather performance data for pitchers based on their pitch count and rest days.\n",
    "        Analyze trends in effectiveness, velocity, and injury rates.\n",
    "\n",
    "    Pilot Testing:\n",
    "        Implement the proposed strategy with select pitchers or at the minor league level.\n",
    "        Monitor and record results on performance, recovery, and player feedback.\n",
    "\n",
    "    Training Adjustments:\n",
    "        Adjust training and conditioning routines to prepare pitchers for shorter, more frequent outings.\n",
    "        Emphasize recovery and monitoring.\n",
    "\n",
    "    Team and Player Communication:\n",
    "        Ensure alignment with coaching staff and players regarding the strategy.\n",
    "        Clearly communicate the potential benefits and address any concerns."
   ]
  },
  {
   "cell_type": "markdown",
   "metadata": {},
   "source": []
  }
 ],
 "metadata": {
  "kernelspec": {
   "display_name": "data_science_example",
   "language": "python",
   "name": "python3"
  },
  "language_info": {
   "codemirror_mode": {
    "name": "ipython",
    "version": 3
   },
   "file_extension": ".py",
   "mimetype": "text/x-python",
   "name": "python",
   "nbconvert_exporter": "python",
   "pygments_lexer": "ipython3",
   "version": "3.10.15"
  }
 },
 "nbformat": 4,
 "nbformat_minor": 2
}
