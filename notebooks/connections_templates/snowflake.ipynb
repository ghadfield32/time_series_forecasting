{
 "cells": [
  {
   "cell_type": "code",
   "execution_count": null,
   "metadata": {
    "vscode": {
     "languageId": "plaintext"
    }
   },
   "outputs": [],
   "source": [
    "import snowflake.connector\n",
    "\n",
    "def connect_snowflake():\n",
    "    conn = snowflake.connector.connect(\n",
    "        user='your_username',\n",
    "        password='your_password',\n",
    "        account='your_account_name'\n",
    "    )\n",
    "    \n",
    "    # Check the connection\n",
    "    try:\n",
    "        cursor = conn.cursor()\n",
    "        cursor.execute(\"SELECT CURRENT_VERSION()\")\n",
    "        version = cursor.fetchone()\n",
    "        print(f\"Connected to Snowflake, version: {version}\")\n",
    "    except Exception as e:\n",
    "        print(f\"Connection failed: {e}\")\n",
    "    finally:\n",
    "        conn.close()\n",
    "\n",
    "connect_snowflake()\n"
   ]
  }
 ],
 "metadata": {
  "language_info": {
   "name": "python"
  }
 },
 "nbformat": 4,
 "nbformat_minor": 2
}
