{
 "cells": [
  {
   "cell_type": "code",
   "execution_count": 1,
   "metadata": {},
   "outputs": [
    {
     "ename": "ModuleNotFoundError",
     "evalue": "No module named 'oracledb'",
     "output_type": "error",
     "traceback": [
      "\u001b[0;31m---------------------------------------------------------------------------\u001b[0m",
      "\u001b[0;31mModuleNotFoundError\u001b[0m                       Traceback (most recent call last)",
      "Cell \u001b[0;32mIn[1], line 1\u001b[0m\n\u001b[0;32m----> 1\u001b[0m \u001b[38;5;28;01mimport\u001b[39;00m \u001b[38;5;21;01moracledb\u001b[39;00m  \u001b[38;5;66;03m# Note the new import\u001b[39;00m\n\u001b[1;32m      3\u001b[0m \u001b[38;5;28;01mdef\u001b[39;00m \u001b[38;5;21mconnect_oracle\u001b[39m():\n\u001b[1;32m      4\u001b[0m     \u001b[38;5;66;03m# Connect using the same parameters but without Instant Client if the Oracle DB is accessible\u001b[39;00m\n\u001b[1;32m      5\u001b[0m     conn \u001b[38;5;241m=\u001b[39m \u001b[38;5;28;01mNone\u001b[39;00m\n",
      "\u001b[0;31mModuleNotFoundError\u001b[0m: No module named 'oracledb'"
     ]
    }
   ],
   "source": [
    "import oracledb  # Note the new import\n",
    "\n",
    "def connect_oracle():\n",
    "    # Connect using the same parameters but without Instant Client if the Oracle DB is accessible\n",
    "    conn = None\n",
    "    try:\n",
    "        conn = oracledb.connect(user='system', password='YourPassword123', dsn=\"oracle-db:1521/ORCLPDB1\")\n",
    "        print(f\"Connected to Oracle Database, version: {conn.version}\")\n",
    "    except oracledb.DatabaseError as e:\n",
    "        print(f\"Failed to connect to Oracle database: {e}\")\n",
    "    finally:\n",
    "        if conn:\n",
    "            conn.close()\n"
   ]
  },
  {
   "cell_type": "code",
   "execution_count": null,
   "metadata": {},
   "outputs": [],
   "source": []
  }
 ],
 "metadata": {
  "kernelspec": {
   "display_name": "data_science_example",
   "language": "python",
   "name": "python3"
  },
  "language_info": {
   "codemirror_mode": {
    "name": "ipython",
    "version": 3
   },
   "file_extension": ".py",
   "mimetype": "text/x-python",
   "name": "python",
   "nbconvert_exporter": "python",
   "pygments_lexer": "ipython3",
   "version": "3.10.15"
  }
 },
 "nbformat": 4,
 "nbformat_minor": 2
}
