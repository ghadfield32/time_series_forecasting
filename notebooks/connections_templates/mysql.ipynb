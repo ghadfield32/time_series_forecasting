{
 "cells": [
  {
   "cell_type": "code",
   "execution_count": null,
   "metadata": {
    "vscode": {
     "languageId": "plaintext"
    }
   },
   "outputs": [],
   "source": [
    "import mysql.connector\n",
    "\n",
    "def connect_mysql():\n",
    "    conn = mysql.connector.connect(\n",
    "        host='your_host',\n",
    "        user='your_username',\n",
    "        password='your_password',\n",
    "        database='your_database'\n",
    "    )\n",
    "    \n",
    "    # Check the connection\n",
    "    try:\n",
    "        cursor = conn.cursor()\n",
    "        cursor.execute(\"SELECT DATABASE()\")\n",
    "        db = cursor.fetchone()\n",
    "        print(f\"Connected to MySQL database: {db}\")\n",
    "    except Exception as e:\n",
    "        print(f\"Connection failed: {e}\")\n",
    "    finally:\n",
    "        conn.close()\n",
    "\n",
    "connect_mysql()\n"
   ]
  }
 ],
 "metadata": {
  "language_info": {
   "name": "python"
  }
 },
 "nbformat": 4,
 "nbformat_minor": 2
}
